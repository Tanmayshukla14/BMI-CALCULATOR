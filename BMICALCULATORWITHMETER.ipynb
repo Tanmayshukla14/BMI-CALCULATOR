import tkinter as tk
from tkinter import ttk
import math

# calculating BMI 
def calculate_bmi():
    name = name_entry.get()
    age = int(age_entry.get())
    height = float(height_entry.get())
    weight = float(weight_entry.get())
    
    bmi = weight / (height ** 2)
    
    # category
    if bmi < 18.5:
        status = "Underweight"
        color = "blue"
    elif 18.5 <= bmi < 24.9:
        status = "Normal weight"
        color = "green"
    elif 25 <= bmi < 29.9:
        status = "Overweight"
        color = "orange"
    else:
        status = "Obese"
        color = "red"
    
  
    result_label.config(
        text=f"Hello {name}, aged {age} years!\n"
             f"Your BMI is {bmi:.2f}, which means you are {status}.",
        foreground=color
    )
    
    # bmi meter
    update_bmi_meter(bmi, color)


def update_bmi_meter(bmi, color):
    canvas.delete("meter")  
    angle = int((bmi / 40) * 180)  
    x0, y0, x1, y1 = 50, 50, 250, 250  
    canvas.create_arc(x0, y0, x1, y1, start=0, extent=angle, fill=color, tags="meter")


window = tk.Tk()
window.title(" BMI Calculator with Meter")
window.geometry("500x600")
window.configure(bg="#f2f2f2")

label_font = ("Arial", 12, "bold")
entry_font = ("Arial", 12)
button_font = ("Arial", 12, "bold")

input_frame = tk.Frame(window, bg="#f2f2f2")
input_frame.pack(pady=10)

result_frame = tk.Frame(window, bg="#f2f2f2")
result_frame.pack(pady=10)

meter_frame = tk.Frame(window, bg="#f2f2f2")
meter_frame.pack(pady=20)

# Name
name_label = tk.Label(input_frame, text="Name:", font=label_font, bg="#f2f2f2")
name_label.grid(row=0, column=0, padx=5, pady=5, sticky="w")
name_entry = ttk.Entry(input_frame, font=entry_font)
name_entry.grid(row=0, column=1, padx=5, pady=5)

# Age
age_label = tk.Label(input_frame, text="Age:", font=label_font, bg="#f2f2f2")
age_label.grid(row=1, column=0, padx=5, pady=5, sticky="w")
age_entry = ttk.Entry(input_frame, font=entry_font)
age_entry.grid(row=1, column=1, padx=5, pady=5)

# Height
height_label = tk.Label(input_frame, text="Height (m):", font=label_font, bg="#f2f2f2")
height_label.grid(row=2, column=0, padx=5, pady=5, sticky="w")
height_entry = ttk.Entry(input_frame, font=entry_font)
height_entry.grid(row=2, column=1, padx=5, pady=5)

# Weight
weight_label = tk.Label(input_frame, text="Weight (kg):", font=label_font, bg="#f2f2f2")
weight_label.grid(row=3, column=0, padx=5, pady=5, sticky="w")
weight_entry = ttk.Entry(input_frame, font=entry_font)
weight_entry.grid(row=3, column=1, padx=5, pady=5)

calculate_button = tk.Button(window, text="Calculate BMI", command=calculate_bmi,
                             font=button_font, bg="#007BFF", fg="white", activebackground="#0056b3", activeforeground="white")
calculate_button.pack(pady=10)


result_label = tk.Label(result_frame, text="", font=label_font, bg="#f2f2f2")
result_label.pack()


canvas = tk.Canvas(meter_frame, width=300, height=300, bg="#f2f2f2", highlightthickness=0)
canvas.pack()

canvas.create_arc(50, 50, 250, 250, start=0, extent=180, fill="#e6e6e6")  # Base arc

window.mainloop()
